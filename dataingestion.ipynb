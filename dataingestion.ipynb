{
 "cells": [
  {
   "cell_type": "code",
   "execution_count": 3,
   "id": "3f299607-cd36-4bf0-a3dc-409cb38ec58b",
   "metadata": {},
   "outputs": [],
   "source": [
    "import os\n",
    "def ingest_documents(folder_path):\n",
    "    files = [file_name for file_name in os.listdir(folder_path) if file_name.endswith('.docx')]\n",
    "    for file in files:\n",
    "        try:\n",
    "            print(file)\n",
    "            docx_path = folder_path + \"/\" +file\n",
    "            print(dox_path)\n",
    "            converter = DocumentConverter()\n",
    "            result = converter.convert(docx_path)\n",
    "        except:\n",
    "            docx_path"
   ]
  },
  {
   "cell_type": "code",
   "execution_count": 4,
   "id": "0e9f58ef-243f-4e5c-87a9-bcb113752d22",
   "metadata": {},
   "outputs": [
    {
     "ename": "FileNotFoundError",
     "evalue": "[WinError 3] The system cannot find the path specified: './01 Access'",
     "output_type": "error",
     "traceback": [
      "\u001b[31m---------------------------------------------------------------------------\u001b[39m",
      "\u001b[31mFileNotFoundError\u001b[39m                         Traceback (most recent call last)",
      "\u001b[36mCell\u001b[39m\u001b[36m \u001b[39m\u001b[32mIn[4]\u001b[39m\u001b[32m, line 3\u001b[39m\n\u001b[32m      1\u001b[39m folder_path = \u001b[33m\"\u001b[39m\u001b[33m./01 Access\u001b[39m\u001b[33m\"\u001b[39m\n\u001b[32m      2\u001b[39m source_name = \u001b[33m\"\u001b[39m\u001b[33mdocx\u001b[39m\u001b[33m\"\u001b[39m\n\u001b[32m----> \u001b[39m\u001b[32m3\u001b[39m \u001b[43mingest_documents\u001b[49m\u001b[43m(\u001b[49m\u001b[43mfolder_path\u001b[49m\u001b[43m)\u001b[49m\n",
      "\u001b[36mCell\u001b[39m\u001b[36m \u001b[39m\u001b[32mIn[3]\u001b[39m\u001b[32m, line 3\u001b[39m, in \u001b[36mingest_documents\u001b[39m\u001b[34m(folder_path)\u001b[39m\n\u001b[32m      2\u001b[39m \u001b[38;5;28;01mdef\u001b[39;00m\u001b[38;5;250m \u001b[39m\u001b[34mingest_documents\u001b[39m(folder_path):\n\u001b[32m----> \u001b[39m\u001b[32m3\u001b[39m     files = [file_name \u001b[38;5;28;01mfor\u001b[39;00m file_name \u001b[38;5;129;01min\u001b[39;00m \u001b[43mos\u001b[49m\u001b[43m.\u001b[49m\u001b[43mlistdir\u001b[49m\u001b[43m(\u001b[49m\u001b[43mfolder_path\u001b[49m\u001b[43m)\u001b[49m \u001b[38;5;28;01mif\u001b[39;00m file_name.endswith(\u001b[33m'\u001b[39m\u001b[33m.docx\u001b[39m\u001b[33m'\u001b[39m)]\n\u001b[32m      4\u001b[39m     \u001b[38;5;28;01mfor\u001b[39;00m file \u001b[38;5;129;01min\u001b[39;00m files:\n\u001b[32m      5\u001b[39m         \u001b[38;5;28;01mtry\u001b[39;00m:\n",
      "\u001b[31mFileNotFoundError\u001b[39m: [WinError 3] The system cannot find the path specified: './01 Access'"
     ]
    }
   ],
   "source": [
    "folder_path = \"./01 Access\"\n",
    "source_name = \"docx\"\n",
    "ingest_documents(folder_path)"
   ]
  },
  {
   "cell_type": "code",
   "execution_count": null,
   "id": "25301826-ea21-4490-a4c4-31e3337a994d",
   "metadata": {},
   "outputs": [],
   "source": []
  }
 ],
 "metadata": {
  "kernelspec": {
   "display_name": "Python 3 (ipykernel)",
   "language": "python",
   "name": "python3"
  },
  "language_info": {
   "codemirror_mode": {
    "name": "ipython",
    "version": 3
   },
   "file_extension": ".py",
   "mimetype": "text/x-python",
   "name": "python",
   "nbconvert_exporter": "python",
   "pygments_lexer": "ipython3",
   "version": "3.13.0"
  }
 },
 "nbformat": 4,
 "nbformat_minor": 5
}
